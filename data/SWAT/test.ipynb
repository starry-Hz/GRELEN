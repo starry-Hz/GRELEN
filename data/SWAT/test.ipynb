{
 "cells": [
  {
   "cell_type": "code",
   "execution_count": 3,
   "metadata": {},
   "outputs": [],
   "source": [
    "import pandas as pd  # 导入pandas库，用于数据处理\n",
    "import numpy as np  # 导入numpy库，用于数值计算"
   ]
  },
  {
   "cell_type": "code",
   "execution_count": 4,
   "metadata": {},
   "outputs": [],
   "source": [
    "def downsampling(mat, interval):\n",
    "    \"\"\"\n",
    "    对矩阵进行降采样\n",
    "    :param mat: 输入矩阵\n",
    "    :param interval: 采样间隔\n",
    "    :return: 降采样后的矩阵\n",
    "    \"\"\"\n",
    "    num_row, num_col = mat.shape  # 获取矩阵的行数和列数\n",
    "    res = num_row % interval  # 计算行数对采样间隔的余数\n",
    "    if res != 0:  # 如果余数不为0，需要补充一些行使其可以整除\n",
    "        add_num = interval - res  # 计算需要补充的行数\n",
    "        add_mat = np.zeros((add_num, num_col))  # 创建全零矩阵进行补充\n",
    "        mat = np.concatenate((mat, add_mat))  # 将补充后的矩阵与原矩阵连接\n",
    "    num_row, num_col = mat.shape  # 重新获取补充后的矩阵的行数和列数\n",
    "    # interval采样间隔,num_row/interval采样间隔包含的行数\n",
    "    mat_tmp = np.zeros((interval, int(num_row / interval), num_col))  # 创建临时矩阵\n",
    "    for i in range(interval):  # 循环间隔次数\n",
    "        # i::interval从矩阵的第i行开始，每隔interval行取一次\n",
    "        # 这个赋值操作将 mat[i::interval, :]的结果赋值给mat_tmp的第i层。\n",
    "        mat_tmp[i, ...] = mat[i::interval, :]  # 对每个间隔进行采样\n",
    "    return np.mean(mat_tmp, 0)  # 返回降采样后的矩阵\n"
   ]
  },
  {
   "cell_type": "code",
   "execution_count": null,
   "metadata": {},
   "outputs": [],
   "source": [
    "swat_normal = pd.read_csv('SWaT_Dataset_Normal_v0.csv')  # 读取正常的SWAT数据集\n",
    "swat_normal_np = np.array(swat_normal.iloc[:, 1: -1])  # 将正常数据集转换为numpy数组\n",
    "swat_normal_np"
   ]
  }
 ],
 "metadata": {
  "kernelspec": {
   "display_name": "Python 3",
   "language": "python",
   "name": "python3"
  },
  "language_info": {
   "codemirror_mode": {
    "name": "ipython",
    "version": 3
   },
   "file_extension": ".py",
   "mimetype": "text/x-python",
   "name": "python",
   "nbconvert_exporter": "python",
   "pygments_lexer": "ipython3",
   "version": "3.10.0"
  }
 },
 "nbformat": 4,
 "nbformat_minor": 2
}

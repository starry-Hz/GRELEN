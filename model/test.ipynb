{
 "cells": [
  {
   "cell_type": "code",
   "execution_count": 10,
   "metadata": {},
   "outputs": [
    {
     "name": "stdout",
     "output_type": "stream",
     "text": [
      "GRELEN_gcn_diffpool.py is already UTF-8 encoded.\n",
      "encoders.py is already UTF-8 encoded.\n",
      "GRELEN_diffpool_1.py is already UTF-8 encoded.\n",
      "GRELEN_gcn_old.py is already UTF-8 encoded.\n",
      "Converting GRELEN_gcn1.py from Windows-1254 to UTF-8\n",
      "Error converting GRELEN_gcn1.py: 'charmap' codec can't decode byte 0x8f in position 7: character maps to <undefined>\n",
      "GRELEN.py is already UTF-8 encoded.\n",
      "GRELEN_gcn2.py is already UTF-8 encoded.\n",
      "GRELEN_gcn3.py is already UTF-8 encoded.\n",
      "GRELEN_diffpool_2.py is already UTF-8 encoded.\n",
      "encoders_2.py is already UTF-8 encoded.\n",
      "GRELEN_diffpool.py is already UTF-8 encoded.\n",
      "GRELEN_annotate.py is already UTF-8 encoded.\n",
      "GRELEN_gcn.py is already UTF-8 encoded.\n"
     ]
    }
   ],
   "source": [
    "import os\n",
    "import chardet\n",
    "\n",
    "# 获取当前目录下的所有 .py 文件\n",
    "current_directory = os.getcwd()\n",
    "for filename in os.listdir(current_directory):\n",
    "    if filename.endswith(\".py\"):\n",
    "        filepath = os.path.join(current_directory, filename)\n",
    "\n",
    "        # 读取文件内容并检测当前编码\n",
    "        with open(filepath, 'rb') as file:\n",
    "            raw_data = file.read()\n",
    "            detected_encoding = chardet.detect(raw_data)['encoding']\n",
    "        \n",
    "        # 如果文件不是 UTF-8 编码，则进行转换\n",
    "        if detected_encoding.lower() != 'utf-8':\n",
    "            print(f\"Converting {filename} from {detected_encoding} to UTF-8\")\n",
    "            try:\n",
    "                # 以检测到的编码读取文件\n",
    "                with open(filepath, 'r', encoding=detected_encoding) as file:\n",
    "                    content = file.read()\n",
    "\n",
    "                # 以 UTF-8 编码重新保存文件\n",
    "                with open(filepath, 'w', encoding='utf-8') as file:\n",
    "                    file.write(content)\n",
    "            except Exception as e:\n",
    "                print(f\"Error converting {filename}: {e}\")\n",
    "        else:\n",
    "            print(f\"{filename} is already UTF-8 encoded.\")\n"
   ]
  }
 ],
 "metadata": {
  "kernelspec": {
   "display_name": "grelen",
   "language": "python",
   "name": "python3"
  },
  "language_info": {
   "codemirror_mode": {
    "name": "ipython",
    "version": 3
   },
   "file_extension": ".py",
   "mimetype": "text/x-python",
   "name": "python",
   "nbconvert_exporter": "python",
   "pygments_lexer": "ipython3",
   "version": "3.10.0"
  }
 },
 "nbformat": 4,
 "nbformat_minor": 2
}

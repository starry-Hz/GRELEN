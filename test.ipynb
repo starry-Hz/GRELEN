{
 "cells": [
  {
   "cell_type": "code",
   "execution_count": null,
   "metadata": {},
   "outputs": [],
   "source": [
    "import pandas as pd\n",
    "import numpy as np\n",
    "\n",
    "# 读取 npz 文件\n",
    "data = np.load('./data/SWAT/train_swat.npz')\n",
    "# ['train_x', 'train_target', 'val_x', 'val_target', 'mean', 'std']\n",
    "data.files\n",
    "# 获取 train_x 数组并查看其形状\n",
    "# train_x = data['train_x']\n",
    "# npy数据格式是一个四维的数组[N，H，W, C]，其中N代表数据集的总数，H, W，C分别代表每一张图片对应的长、宽、以及通道数。\n",
    "# # Original train_x shape: (4195, 51, 1, 30)\n",
    "# # print(\"Original train_x shape:\", train_x.shape)\n"
   ]
  },
  {
   "cell_type": "code",
   "execution_count": null,
   "metadata": {},
   "outputs": [],
   "source": [
    "train_x = data['train_x']\n",
    "train_x.shape"
   ]
  },
  {
   "cell_type": "code",
   "execution_count": null,
   "metadata": {},
   "outputs": [],
   "source": [
    "mean = data['mean']  # 获取均值\n",
    "mean"
   ]
  },
  {
   "cell_type": "code",
   "execution_count": null,
   "metadata": {},
   "outputs": [],
   "source": [
    "std = data['std']  # 获取标准差\n",
    "std"
   ]
  },
  {
   "cell_type": "code",
   "execution_count": null,
   "metadata": {},
   "outputs": [],
   "source": [
    "np.zeros((1, 1, 3, 1))"
   ]
  },
  {
   "cell_type": "code",
   "execution_count": null,
   "metadata": {},
   "outputs": [],
   "source": [
    "num_samples, dim1, dim2, dim3 = train_x.shape\n",
    "train_x[0, :, 0, 0]"
   ]
  },
  {
   "cell_type": "code",
   "execution_count": null,
   "metadata": {},
   "outputs": [],
   "source": [
    "train_x[0, 0, :, 0]"
   ]
  },
  {
   "cell_type": "code",
   "execution_count": null,
   "metadata": {},
   "outputs": [],
   "source": [
    "train_x[0, 0, 0, :]"
   ]
  },
  {
   "cell_type": "code",
   "execution_count": null,
   "metadata": {},
   "outputs": [],
   "source": [
    "import torch\n",
    "from torch.utils.data import DataLoader, TensorDataset\n",
    "\n",
    "# 假设我们有一些输入数据 X 和标签 Y\n",
    "X = torch.randn(100, 3)  # 100个样本，每个样本3个特征\n",
    "Y = torch.randn(100, 1)  # 100个样本的标签"
   ]
  },
  {
   "cell_type": "code",
   "execution_count": null,
   "metadata": {},
   "outputs": [],
   "source": [
    "# 创建 TensorDataset\n",
    "dataset = TensorDataset(X, Y)\n",
    "dataset"
   ]
  },
  {
   "cell_type": "code",
   "execution_count": null,
   "metadata": {},
   "outputs": [],
   "source": [
    "# 创建 DataLoader\n",
    "dataloader = DataLoader(dataset, batch_size=10, shuffle=True)\n",
    "dataloader"
   ]
  },
  {
   "cell_type": "code",
   "execution_count": null,
   "metadata": {},
   "outputs": [],
   "source": [
    "# 迭代 DataLoader\n",
    "for i, (x, y) in enumerate(dataloader):\n",
    "    print(f\"Batch {i}:\")\n",
    "    print(f\"Features: {x.size()}, Labels: {y.size()}\")\n",
    "    # 在这里，x 和 y 将是批次的特征和标签\n"
   ]
  },
  {
   "cell_type": "code",
   "execution_count": null,
   "metadata": {},
   "outputs": [],
   "source": [
    "from torch.utils.tensorboard import SummaryWriter\n"
   ]
  },
  {
   "cell_type": "code",
   "execution_count": 1,
   "metadata": {},
   "outputs": [],
   "source": [
    "import torch\n",
    "import torch.nn as nn\n",
    "\n",
    "class MyModel(nn.Module):\n",
    "    def __init__(self):\n",
    "        super(MyModel, self).__init__()\n",
    "        self.fc = nn.Linear(10, 2)  # 这是一个简单的示例模型\n",
    "     \n",
    "    def forward(self, x):\n",
    "        return self.fc(x)\n",
    "\n",
    "model = MyModel()\n"
   ]
  },
  {
   "cell_type": "code",
   "execution_count": 3,
   "metadata": {},
   "outputs": [
    {
     "ename": "RuntimeError",
     "evalue": "Error(s) in loading state_dict for MyModel:\n\tMissing key(s) in state_dict: \"fc.weight\", \"fc.bias\". \n\tUnexpected key(s) in state_dict: \"graph_learner.mlp1.fc1.weight\", \"graph_learner.mlp1.fc1.bias\", \"graph_learner.mlp1.fc2.weight\", \"graph_learner.mlp1.fc2.bias\", \"graph_learner.mlp1.bn.weight\", \"graph_learner.mlp1.bn.bias\", \"graph_learner.mlp1.bn.running_mean\", \"graph_learner.mlp1.bn.running_var\", \"graph_learner.mlp1.bn.num_batches_tracked\", \"graph_learner.Wq.weight\", \"graph_learner.Wq.bias\", \"graph_learner.Wk.weight\", \"graph_learner.Wk.bias\", \"linear1.weight\", \"linear1.bias\", \"encoder_model.0.dcgru_layers.0._gconv_0.weight\", \"encoder_model.0.dcgru_layers.0._gconv_0.bias\", \"encoder_model.0.dcgru_layers.0._gconv_1.weight\", \"encoder_model.0.dcgru_layers.0._gconv_1.bias\", \"encoder_model.0.dcgru_layers.0._gconv_c_0.weight\", \"encoder_model.0.dcgru_layers.0._gconv_c_0.bias\", \"encoder_model.0.dcgru_layers.0._gconv_c_1.weight\", \"encoder_model.0.dcgru_layers.0._gconv_c_1.bias\", \"encoder_model.1.dcgru_layers.0._gconv_0.weight\", \"encoder_model.1.dcgru_layers.0._gconv_0.bias\", \"encoder_model.1.dcgru_layers.0._gconv_1.weight\", \"encoder_model.1.dcgru_layers.0._gconv_1.bias\", \"encoder_model.1.dcgru_layers.0._gconv_c_0.weight\", \"encoder_model.1.dcgru_layers.0._gconv_c_0.bias\", \"encoder_model.1.dcgru_layers.0._gconv_c_1.weight\", \"encoder_model.1.dcgru_layers.0._gconv_c_1.bias\", \"encoder_model.2.dcgru_layers.0._gconv_0.weight\", \"encoder_model.2.dcgru_layers.0._gconv_0.bias\", \"encoder_model.2.dcgru_layers.0._gconv_1.weight\", \"encoder_model.2.dcgru_layers.0._gconv_1.bias\", \"encoder_model.2.dcgru_layers.0._gconv_c_0.weight\", \"encoder_model.2.dcgru_layers.0._gconv_c_0.bias\", \"encoder_model.2.dcgru_layers.0._gconv_c_1.weight\", \"encoder_model.2.dcgru_layers.0._gconv_c_1.bias\", \"linear_out.weight\", \"linear_out.bias\". ",
     "output_type": "error",
     "traceback": [
      "\u001b[0;31m---------------------------------------------------------------------------\u001b[0m",
      "\u001b[0;31mRuntimeError\u001b[0m                              Traceback (most recent call last)",
      "\u001b[1;32m/home/hz/code/GRELEN/test.ipynb Cell 15\u001b[0m line \u001b[0;36m6\n\u001b[1;32m      <a href='vscode-notebook-cell://ssh-remote%2B10.181.7.225/home/hz/code/GRELEN/test.ipynb#X21sdnNjb2RlLXJlbW90ZQ%3D%3D?line=2'>3</a>\u001b[0m state_dict \u001b[39m=\u001b[39m torch\u001b[39m.\u001b[39mload(model_params_path)\n\u001b[1;32m      <a href='vscode-notebook-cell://ssh-remote%2B10.181.7.225/home/hz/code/GRELEN/test.ipynb#X21sdnNjb2RlLXJlbW90ZQ%3D%3D?line=4'>5</a>\u001b[0m \u001b[39m# 将参数加载到模型中\u001b[39;00m\n\u001b[0;32m----> <a href='vscode-notebook-cell://ssh-remote%2B10.181.7.225/home/hz/code/GRELEN/test.ipynb#X21sdnNjb2RlLXJlbW90ZQ%3D%3D?line=5'>6</a>\u001b[0m model\u001b[39m.\u001b[39;49mload_state_dict(state_dict)\n\u001b[1;32m      <a href='vscode-notebook-cell://ssh-remote%2B10.181.7.225/home/hz/code/GRELEN/test.ipynb#X21sdnNjb2RlLXJlbW90ZQ%3D%3D?line=7'>8</a>\u001b[0m \u001b[39m# 设置模型为评估模式（如果需要）\u001b[39;00m\n\u001b[1;32m      <a href='vscode-notebook-cell://ssh-remote%2B10.181.7.225/home/hz/code/GRELEN/test.ipynb#X21sdnNjb2RlLXJlbW90ZQ%3D%3D?line=8'>9</a>\u001b[0m model\u001b[39m.\u001b[39meval()\n",
      "File \u001b[0;32m~/anaconda3/envs/grelen/lib/python3.10/site-packages/torch/nn/modules/module.py:2041\u001b[0m, in \u001b[0;36mModule.load_state_dict\u001b[0;34m(self, state_dict, strict)\u001b[0m\n\u001b[1;32m   2036\u001b[0m         error_msgs\u001b[39m.\u001b[39minsert(\n\u001b[1;32m   2037\u001b[0m             \u001b[39m0\u001b[39m, \u001b[39m'\u001b[39m\u001b[39mMissing key(s) in state_dict: \u001b[39m\u001b[39m{}\u001b[39;00m\u001b[39m. \u001b[39m\u001b[39m'\u001b[39m\u001b[39m.\u001b[39mformat(\n\u001b[1;32m   2038\u001b[0m                 \u001b[39m'\u001b[39m\u001b[39m, \u001b[39m\u001b[39m'\u001b[39m\u001b[39m.\u001b[39mjoin(\u001b[39m'\u001b[39m\u001b[39m\"\u001b[39m\u001b[39m{}\u001b[39;00m\u001b[39m\"\u001b[39m\u001b[39m'\u001b[39m\u001b[39m.\u001b[39mformat(k) \u001b[39mfor\u001b[39;00m k \u001b[39min\u001b[39;00m missing_keys)))\n\u001b[1;32m   2040\u001b[0m \u001b[39mif\u001b[39;00m \u001b[39mlen\u001b[39m(error_msgs) \u001b[39m>\u001b[39m \u001b[39m0\u001b[39m:\n\u001b[0;32m-> 2041\u001b[0m     \u001b[39mraise\u001b[39;00m \u001b[39mRuntimeError\u001b[39;00m(\u001b[39m'\u001b[39m\u001b[39mError(s) in loading state_dict for \u001b[39m\u001b[39m{}\u001b[39;00m\u001b[39m:\u001b[39m\u001b[39m\\n\u001b[39;00m\u001b[39m\\t\u001b[39;00m\u001b[39m{}\u001b[39;00m\u001b[39m'\u001b[39m\u001b[39m.\u001b[39mformat(\n\u001b[1;32m   2042\u001b[0m                        \u001b[39mself\u001b[39m\u001b[39m.\u001b[39m\u001b[39m__class__\u001b[39m\u001b[39m.\u001b[39m\u001b[39m__name__\u001b[39m, \u001b[39m\"\u001b[39m\u001b[39m\\n\u001b[39;00m\u001b[39m\\t\u001b[39;00m\u001b[39m\"\u001b[39m\u001b[39m.\u001b[39mjoin(error_msgs)))\n\u001b[1;32m   2043\u001b[0m \u001b[39mreturn\u001b[39;00m _IncompatibleKeys(missing_keys, unexpected_keys)\n",
      "\u001b[0;31mRuntimeError\u001b[0m: Error(s) in loading state_dict for MyModel:\n\tMissing key(s) in state_dict: \"fc.weight\", \"fc.bias\". \n\tUnexpected key(s) in state_dict: \"graph_learner.mlp1.fc1.weight\", \"graph_learner.mlp1.fc1.bias\", \"graph_learner.mlp1.fc2.weight\", \"graph_learner.mlp1.fc2.bias\", \"graph_learner.mlp1.bn.weight\", \"graph_learner.mlp1.bn.bias\", \"graph_learner.mlp1.bn.running_mean\", \"graph_learner.mlp1.bn.running_var\", \"graph_learner.mlp1.bn.num_batches_tracked\", \"graph_learner.Wq.weight\", \"graph_learner.Wq.bias\", \"graph_learner.Wk.weight\", \"graph_learner.Wk.bias\", \"linear1.weight\", \"linear1.bias\", \"encoder_model.0.dcgru_layers.0._gconv_0.weight\", \"encoder_model.0.dcgru_layers.0._gconv_0.bias\", \"encoder_model.0.dcgru_layers.0._gconv_1.weight\", \"encoder_model.0.dcgru_layers.0._gconv_1.bias\", \"encoder_model.0.dcgru_layers.0._gconv_c_0.weight\", \"encoder_model.0.dcgru_layers.0._gconv_c_0.bias\", \"encoder_model.0.dcgru_layers.0._gconv_c_1.weight\", \"encoder_model.0.dcgru_layers.0._gconv_c_1.bias\", \"encoder_model.1.dcgru_layers.0._gconv_0.weight\", \"encoder_model.1.dcgru_layers.0._gconv_0.bias\", \"encoder_model.1.dcgru_layers.0._gconv_1.weight\", \"encoder_model.1.dcgru_layers.0._gconv_1.bias\", \"encoder_model.1.dcgru_layers.0._gconv_c_0.weight\", \"encoder_model.1.dcgru_layers.0._gconv_c_0.bias\", \"encoder_model.1.dcgru_layers.0._gconv_c_1.weight\", \"encoder_model.1.dcgru_layers.0._gconv_c_1.bias\", \"encoder_model.2.dcgru_layers.0._gconv_0.weight\", \"encoder_model.2.dcgru_layers.0._gconv_0.bias\", \"encoder_model.2.dcgru_layers.0._gconv_1.weight\", \"encoder_model.2.dcgru_layers.0._gconv_1.bias\", \"encoder_model.2.dcgru_layers.0._gconv_c_0.weight\", \"encoder_model.2.dcgru_layers.0._gconv_c_0.bias\", \"encoder_model.2.dcgru_layers.0._gconv_c_1.weight\", \"encoder_model.2.dcgru_layers.0._gconv_c_1.bias\", \"linear_out.weight\", \"linear_out.bias\". "
     ]
    }
   ],
   "source": [
    "# 加载模型参数\n",
    "model_params_path = 'experiments/swat_test/epoch_299.params'\n",
    "state_dict = torch.load(model_params_path)\n",
    "\n",
    "# 将参数加载到模型中\n",
    "model.load_state_dict(state_dict)\n",
    "\n",
    "# 设置模型为评估模式（如果需要）\n",
    "model.eval()\n"
   ]
  },
  {
   "cell_type": "code",
   "execution_count": null,
   "metadata": {},
   "outputs": [],
   "source": [
    "for name, param in model.named_parameters():\n",
    "    print(f\"Parameter {name}: {param}\")\n"
   ]
  },
  {
   "cell_type": "code",
   "execution_count": 4,
   "metadata": {},
   "outputs": [
    {
     "data": {
      "image/png": "[encoded data removed]",
      "text/plain": [
       "<Figure size 640x480 with 1 Axes>"
      ]
     },
     "metadata": {},
     "output_type": "display_data"
    }
   ],
   "source": [
    "import matplotlib\n",
    "matplotlib.rcParams['font.sans-serif'] = ['SimHei']     # 显示中文\n",
    "# 为了坐标轴负号正常显示。matplotlib默认不支持中文，设置中文字体后，负号会显示异常。需要手动将坐标轴负号设为False才能正常显示负号。\n",
    "matplotlib.rcParams['axes.unicode_minus'] = False\n",
    "\n",
    "# 数据\n",
    "x = [1, 2, 3, 4, 5]\n",
    "y = [2, 3, 5, 7, 11]\n",
    "\n",
    "# 绘制折线图\n",
    "plt.plot(x, y, marker='o', linestyle='-', color='b', label='折线图')\n",
    "\n",
    "# 设置标题和标签\n",
    "plt.title('折线图示例')\n",
    "plt.xlabel('X 轴')\n",
    "plt.ylabel('Y 轴')\n",
    "\n",
    "# 显示图例\n",
    "plt.legend()\n",
    "\n",
    "# 显示图形\n",
    "plt.show()\n"
   ]
  }
 ],
 "metadata": {
  "kernelspec": {
   "display_name": "Python 3",
   "language": "python",
   "name": "python3"
  },
  "language_info": {
   "codemirror_mode": {
    "name": "ipython",
    "version": 3
   },
   "file_extension": ".py",
   "mimetype": "text/x-python",
   "name": "python",
   "nbconvert_exporter": "python",
   "pygments_lexer": "ipython3",
   "version": "3.10.0"
  }
 },
 "nbformat": 4,
 "nbformat_minor": 2
}

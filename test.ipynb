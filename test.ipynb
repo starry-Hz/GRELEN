{
 "cells": [
  {
   "cell_type": "code",
   "execution_count": 10,
   "metadata": {},
   "outputs": [
    {
     "data": {
      "text/plain": [
       "['train_x', 'train_target', 'val_x', 'val_target', 'mean', 'std']"
      ]
     },
     "execution_count": 10,
     "metadata": {},
     "output_type": "execute_result"
    }
   ],
   "source": [
    "import pandas as pd\n",
    "import numpy as np\n",
    "\n",
    "# 读取 npz 文件\n",
    "data = np.load('./data/SWAT/train_swat.npz')\n",
    "# ['train_x', 'train_target', 'val_x', 'val_target', 'mean', 'std']\n",
    "data.files\n",
    "# 获取 train_x 数组并查看其形状\n",
    "# train_x = data['train_x']\n",
    "# npy数据格式是一个四维的数组[N，H，W, C]，其中N代表数据集的总数，H, W，C分别代表每一张图片对应的长、宽、以及通道数。\n",
    "# # Original train_x shape: (4195, 51, 1, 30)\n",
    "# # print(\"Original train_x shape:\", train_x.shape)\n"
   ]
  },
  {
   "cell_type": "code",
   "execution_count": 12,
   "metadata": {},
   "outputs": [
    {
     "data": {
      "text/plain": [
       "(4195, 51, 1, 30)"
      ]
     },
     "execution_count": 12,
     "metadata": {},
     "output_type": "execute_result"
    }
   ],
   "source": [
    "train_x = data['train_x']\n",
    "train_x.shape"
   ]
  },
  {
   "cell_type": "code",
   "execution_count": 14,
   "metadata": {},
   "outputs": [
    {
     "data": {
      "text/plain": [
       "array([9.94713047e-01, 9.92589827e-02, 1.00000000e+00, 1.00000000e+00,\n",
       "       0.00000000e+00, 5.55775802e-01, 1.50029207e-01, 7.62462073e-01,\n",
       "       9.88857665e-01, 1.00000000e+00, 0.00000000e+00, 0.00000000e+00,\n",
       "       1.00000000e+00, 0.00000000e+00, 1.00000000e+00, 0.00000000e+00,\n",
       "       9.88261034e-01, 9.74696236e-01, 7.88396575e-01, 1.89189189e-01,\n",
       "       1.00000000e+00, 1.17647059e-01, 1.17647059e-01, 0.00000000e+00,\n",
       "       1.00000000e+00, 7.77777778e-01, 1.00000000e+00, 1.45189680e-01,\n",
       "       8.79706643e-01, 0.00000000e+00, 0.00000000e+00, 0.00000000e+00,\n",
       "       0.00000000e+00, 0.00000000e+00, 7.41267589e-02, 9.99595257e-01,\n",
       "       4.84499999e-01, 7.67483907e-02, 1.41870649e-01, 2.07765336e-01,\n",
       "       9.50586419e-01, 8.62548172e-01, 0.00000000e+00, 0.00000000e+00,\n",
       "       9.93586027e-01, 7.15514865e-01, 1.00000000e+00, 1.33112351e-04,\n",
       "       0.00000000e+00, 0.00000000e+00, 0.00000000e+00])"
      ]
     },
     "execution_count": 14,
     "metadata": {},
     "output_type": "execute_result"
    }
   ],
   "source": [
    "num_samples, dim1, dim2, dim3 = train_x.shape\n",
    "train_x[0, :, 0, 0]"
   ]
  },
  {
   "cell_type": "code",
   "execution_count": 15,
   "metadata": {},
   "outputs": [
    {
     "data": {
      "text/plain": [
       "array([0.99471305])"
      ]
     },
     "execution_count": 15,
     "metadata": {},
     "output_type": "execute_result"
    }
   ],
   "source": [
    "train_x[0, 0, :, 0]"
   ]
  },
  {
   "cell_type": "code",
   "execution_count": 16,
   "metadata": {},
   "outputs": [
    {
     "data": {
      "text/plain": [
       "array([0.99471305, 0.98979154, 0.98649391, 0.99241428, 0.9875675 ,\n",
       "       0.98697567, 0.99434756, 0.98690712, 0.9893513 , 0.9922855 ,\n",
       "       0.98598096, 0.98521682, 0.99384086, 0.9900781 , 0.98496348,\n",
       "       0.99057025, 0.19898705, 0.        , 0.        , 0.        ,\n",
       "       0.        , 0.        , 0.        , 0.        , 0.        ,\n",
       "       0.        , 0.        , 0.        , 0.        , 0.        ])"
      ]
     },
     "execution_count": 16,
     "metadata": {},
     "output_type": "execute_result"
    }
   ],
   "source": [
    "train_x[0, 0, 0, :]"
   ]
  }
 ],
 "metadata": {
  "kernelspec": {
   "display_name": "Python 3",
   "language": "python",
   "name": "python3"
  },
  "language_info": {
   "codemirror_mode": {
    "name": "ipython",
    "version": 3
   },
   "file_extension": ".py",
   "mimetype": "text/x-python",
   "name": "python",
   "nbconvert_exporter": "python",
   "pygments_lexer": "ipython3",
   "version": "3.10.0"
  }
 },
 "nbformat": 4,
 "nbformat_minor": 2
}

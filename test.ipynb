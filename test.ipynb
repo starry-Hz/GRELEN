{
 "cells": [
  {
   "cell_type": "code",
   "execution_count": 14,
   "metadata": {},
   "outputs": [
    {
     "data": {
      "text/plain": [
       "['train_x', 'train_target', 'val_x', 'val_target', 'mean', 'std']"
      ]
     },
     "execution_count": 14,
     "metadata": {},
     "output_type": "execute_result"
    }
   ],
   "source": [
    "import pandas as pd\n",
    "import numpy as np\n",
    "\n",
    "# 读取 npz 文件\n",
    "data = np.load('./data/SWAT/train_swat.npz')\n",
    "# ['train_x', 'train_target', 'val_x', 'val_target', 'mean', 'std']\n",
    "data.files\n",
    "# 获取 train_x 数组并查看其形状\n",
    "# train_x = data['train_x']\n",
    "# npy数据格式是一个四维的数组[N，H，W, C]，其中N代表数据集的总数，H, W，C分别代表每一张图片对应的长、宽、以及通道数。\n",
    "# # Original train_x shape: (4195, 51, 1, 30)\n",
    "# # print(\"Original train_x shape:\", train_x.shape)\n"
   ]
  },
  {
   "cell_type": "code",
   "execution_count": 5,
   "metadata": {},
   "outputs": [
    {
     "name": "stdout",
     "output_type": "stream",
     "text": [
      "train: torch.Size([4195, 51, 1, 30]) torch.Size([4195, 51, 1, 30])\n",
      "val: torch.Size([1027, 51, 1, 30]) torch.Size([1027, 51, 1, 30])\n"
     ]
    }
   ],
   "source": [
    "from lib.utils import *\n",
    "from config_files.SWAT_config_gcn import Config\n",
    "config = Config()\n",
    "\n",
    "# 从配置中获取参数\n",
    "device = config.device  # 设备\n",
    "batch_size = config.batch_size  # 批处理大小\n",
    "learning_rate = config.learning_rate  # 学习率\n",
    "epochs = config.epochs  # 训练周期数\n",
    "train_filename = config.train_filename  # 训练数据文件名\n",
    "train_loader, train_target_tensor, val_loader, val_target_tensor, _mean, _std = load_data_train(train_filename, device, batch_size)\n"
   ]
  },
  {
   "cell_type": "code",
   "execution_count": 12,
   "metadata": {},
   "outputs": [
    {
     "ename": "AttributeError",
     "evalue": "'list' object has no attribute 'size'",
     "output_type": "error",
     "traceback": [
      "\u001b[0;31m---------------------------------------------------------------------------\u001b[0m",
      "\u001b[0;31mAttributeError\u001b[0m                            Traceback (most recent call last)",
      "\u001b[1;32m/home/hz/code/GRELEN/test.ipynb Cell 3\u001b[0m line \u001b[0;36m3\n\u001b[1;32m      <a href='vscode-notebook-cell://ssh-remote%2B10.181.7.225/home/hz/code/GRELEN/test.ipynb#X25sdnNjb2RlLXJlbW90ZQ%3D%3D?line=0'>1</a>\u001b[0m \u001b[39mfor\u001b[39;00m batch_index, batch_data \u001b[39min\u001b[39;00m \u001b[39menumerate\u001b[39m(val_loader):\n\u001b[1;32m      <a href='vscode-notebook-cell://ssh-remote%2B10.181.7.225/home/hz/code/GRELEN/test.ipynb#X25sdnNjb2RlLXJlbW90ZQ%3D%3D?line=1'>2</a>\u001b[0m     encoder_inputs, labels \u001b[39m=\u001b[39m batch_data  \u001b[39m# 获取输入数据和标签\u001b[39;00m\n\u001b[0;32m----> <a href='vscode-notebook-cell://ssh-remote%2B10.181.7.225/home/hz/code/GRELEN/test.ipynb#X25sdnNjb2RlLXJlbW90ZQ%3D%3D?line=2'>3</a>\u001b[0m     \u001b[39mprint\u001b[39m(batch_data\u001b[39m.\u001b[39;49msize())\n\u001b[1;32m      <a href='vscode-notebook-cell://ssh-remote%2B10.181.7.225/home/hz/code/GRELEN/test.ipynb#X25sdnNjb2RlLXJlbW90ZQ%3D%3D?line=3'>4</a>\u001b[0m     encoder_inputs \u001b[39m=\u001b[39m encoder_inputs[:, :, \u001b[39m0\u001b[39m, :]  \u001b[39m# 处理输入数据\u001b[39;00m\n\u001b[1;32m      <a href='vscode-notebook-cell://ssh-remote%2B10.181.7.225/home/hz/code/GRELEN/test.ipynb#X25sdnNjb2RlLXJlbW90ZQ%3D%3D?line=4'>5</a>\u001b[0m     labels \u001b[39m=\u001b[39m labels[:, :, \u001b[39m0\u001b[39m, T\u001b[39m-\u001b[39mtarget_T:]  \u001b[39m# 处理标签数据\u001b[39;00m\n",
      "\u001b[0;31mAttributeError\u001b[0m: 'list' object has no attribute 'size'"
     ]
    }
   ],
   "source": [
    "for batch_index, batch_data in enumerate(val_loader):\n",
    "    encoder_inputs, labels = batch_data  # 获取输入数据和标签\n",
    "    print(batch_data.size())\n",
    "    encoder_inputs = encoder_inputs[:, :, 0, :]  # 处理输入数据\n",
    "    labels = labels[:, :, 0, T-target_T:]  # 处理标签数据\n"
   ]
  },
  {
   "cell_type": "code",
   "execution_count": null,
   "metadata": {},
   "outputs": [],
   "source": [
    "train_x = data['train_x']\n",
    "train_x.shape"
   ]
  },
  {
   "cell_type": "code",
   "execution_count": null,
   "metadata": {},
   "outputs": [],
   "source": [
    "mean = data['mean']  # 获取均值\n",
    "mean"
   ]
  },
  {
   "cell_type": "code",
   "execution_count": null,
   "metadata": {},
   "outputs": [],
   "source": [
    "std = data['std']  # 获取标准差\n",
    "std"
   ]
  },
  {
   "cell_type": "code",
   "execution_count": null,
   "metadata": {},
   "outputs": [],
   "source": [
    "np.zeros((1, 1, 3, 1))"
   ]
  },
  {
   "cell_type": "code",
   "execution_count": null,
   "metadata": {},
   "outputs": [],
   "source": [
    "num_samples, dim1, dim2, dim3 = train_x.shape\n",
    "train_x[0, :, 0, 0]"
   ]
  },
  {
   "cell_type": "code",
   "execution_count": null,
   "metadata": {},
   "outputs": [],
   "source": [
    "train_x[0, 0, :, 0]"
   ]
  },
  {
   "cell_type": "code",
   "execution_count": null,
   "metadata": {},
   "outputs": [],
   "source": [
    "train_x[0, 0, 0, :]"
   ]
  },
  {
   "cell_type": "code",
   "execution_count": null,
   "metadata": {},
   "outputs": [],
   "source": [
    "import torch\n",
    "from torch.utils.data import DataLoader, TensorDataset\n",
    "\n",
    "# 假设我们有一些输入数据 X 和标签 Y\n",
    "X = torch.randn(100, 3)  # 100个样本，每个样本3个特征\n",
    "Y = torch.randn(100, 1)  # 100个样本的标签"
   ]
  },
  {
   "cell_type": "code",
   "execution_count": null,
   "metadata": {},
   "outputs": [],
   "source": [
    "# 创建 TensorDataset\n",
    "dataset = TensorDataset(X, Y)\n",
    "dataset"
   ]
  },
  {
   "cell_type": "code",
   "execution_count": null,
   "metadata": {},
   "outputs": [],
   "source": [
    "# 创建 DataLoader\n",
    "dataloader = DataLoader(dataset, batch_size=10, shuffle=True)\n",
    "dataloader"
   ]
  },
  {
   "cell_type": "code",
   "execution_count": null,
   "metadata": {},
   "outputs": [],
   "source": [
    "# 迭代 DataLoader\n",
    "for i, (x, y) in enumerate(dataloader):\n",
    "    print(f\"Batch {i}:\")\n",
    "    print(f\"Features: {x.size()}, Labels: {y.size()}\")\n",
    "    # 在这里，x 和 y 将是批次的特征和标签\n"
   ]
  }
 ],
 "metadata": {
  "kernelspec": {
   "display_name": "Python 3",
   "language": "python",
   "name": "python3"
  },
  "language_info": {
   "codemirror_mode": {
    "name": "ipython",
    "version": 3
   },
   "file_extension": ".py",
   "mimetype": "text/x-python",
   "name": "python",
   "nbconvert_exporter": "python",
   "pygments_lexer": "ipython3",
   "version": "3.10.0"
  }
 },
 "nbformat": 4,
 "nbformat_minor": 2
}
